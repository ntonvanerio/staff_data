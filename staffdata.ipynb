{
  "nbformat": 4,
  "nbformat_minor": 0,
  "metadata": {
    "colab": {
      "provenance": []
    },
    "kernelspec": {
      "name": "python3",
      "display_name": "Python 3"
    },
    "language_info": {
      "name": "python"
    }
  },
  "cells": [
    {
      "cell_type": "code",
      "execution_count": 1,
      "metadata": {
        "colab": {
          "base_uri": "https://localhost:8080/",
          "height": 383
        },
        "id": "osdTV51epabQ",
        "outputId": "f327b808-1b35-4d74-ae84-c3775892c22c"
      },
      "outputs": [
        {
          "output_type": "error",
          "ename": "ModuleNotFoundError",
          "evalue": "No module named 'streamlit'",
          "traceback": [
            "\u001b[0;31m---------------------------------------------------------------------------\u001b[0m",
            "\u001b[0;31mModuleNotFoundError\u001b[0m                       Traceback (most recent call last)",
            "\u001b[0;32m/tmp/ipython-input-1-3064050111.py\u001b[0m in \u001b[0;36m<cell line: 0>\u001b[0;34m()\u001b[0m\n\u001b[1;32m      1\u001b[0m \u001b[0;31m# Streamlit dashboard para GoFundMe - Nicolás Ton\u001b[0m\u001b[0;34m\u001b[0m\u001b[0;34m\u001b[0m\u001b[0m\n\u001b[0;32m----> 2\u001b[0;31m \u001b[0;32mimport\u001b[0m \u001b[0mstreamlit\u001b[0m \u001b[0;32mas\u001b[0m \u001b[0mst\u001b[0m\u001b[0;34m\u001b[0m\u001b[0;34m\u001b[0m\u001b[0m\n\u001b[0m\u001b[1;32m      3\u001b[0m \u001b[0;32mimport\u001b[0m \u001b[0mpandas\u001b[0m \u001b[0;32mas\u001b[0m \u001b[0mpd\u001b[0m\u001b[0;34m\u001b[0m\u001b[0;34m\u001b[0m\u001b[0m\n\u001b[1;32m      4\u001b[0m \u001b[0;32mimport\u001b[0m \u001b[0mnumpy\u001b[0m \u001b[0;32mas\u001b[0m \u001b[0mnp\u001b[0m\u001b[0;34m\u001b[0m\u001b[0;34m\u001b[0m\u001b[0m\n\u001b[1;32m      5\u001b[0m \u001b[0;32mimport\u001b[0m \u001b[0mplotly\u001b[0m\u001b[0;34m.\u001b[0m\u001b[0mexpress\u001b[0m \u001b[0;32mas\u001b[0m \u001b[0mpx\u001b[0m\u001b[0;34m\u001b[0m\u001b[0;34m\u001b[0m\u001b[0m\n",
            "\u001b[0;31mModuleNotFoundError\u001b[0m: No module named 'streamlit'",
            "",
            "\u001b[0;31m---------------------------------------------------------------------------\u001b[0;32m\nNOTE: If your import is failing due to a missing package, you can\nmanually install dependencies using either !pip or !apt.\n\nTo view examples of installing some common dependencies, click the\n\"Open Examples\" button below.\n\u001b[0;31m---------------------------------------------------------------------------\u001b[0m\n"
          ],
          "errorDetails": {
            "actions": [
              {
                "action": "open_url",
                "actionText": "Open Examples",
                "url": "/notebooks/snippets/importing_libraries.ipynb"
              }
            ]
          }
        }
      ],
      "source": [
        "# Streamlit dashboard para GoFundMe - Nicolás Ton\n",
        "import streamlit as st\n",
        "import pandas as pd\n",
        "import numpy as np\n",
        "import plotly.express as px\n",
        "\n",
        "# Simulación de datos\n",
        "np.random.seed(42)\n",
        "categories = ['Salud', 'Educación', 'Desastres Naturales', 'Animales', 'Comunidad']\n",
        "countries = ['Argentina', 'USA', 'Brasil', 'México', 'España']\n",
        "\n",
        "n_campaigns = 300\n",
        "campaigns = pd.DataFrame({\n",
        "    'id': range(1, n_campaigns + 1),\n",
        "    'nombre': [f'Campaña {i}' for i in range(1, n_campaigns + 1)],\n",
        "    'categoría': np.random.choice(categories, n_campaigns),\n",
        "    'país': np.random.choice(countries, n_campaigns),\n",
        "    'meta_usd': np.random.randint(5000, 50000, n_campaigns),\n",
        "    'recaudado_usd': lambda df: df['meta_usd'] * np.random.uniform(0.2, 1.3, n_campaigns),\n",
        "    'fecha_creación': pd.to_datetime('2024-01-01') + pd.to_timedelta(np.random.randint(0, 180, n_campaigns), unit='D')\n",
        "})\n",
        "campaigns['recaudado_usd'] = campaigns['meta_usd'] * np.random.uniform(0.2, 1.3, n_campaigns)\n",
        "campaigns['estado'] = np.where(campaigns['recaudado_usd'] >= campaigns['meta_usd'], 'Meta alcanzada', 'En curso')\n",
        "\n",
        "# Sidebar\n",
        "st.sidebar.title(\"Filtros\")\n",
        "pais = st.sidebar.selectbox(\"País\", ['Todos'] + countries)\n",
        "categoria = st.sidebar.selectbox(\"Categoría\", ['Todas'] + categories)\n",
        "\n",
        "# Filtros\n",
        "df = campaigns.copy()\n",
        "if pais != 'Todos':\n",
        "    df = df[df['país'] == pais]\n",
        "if categoria != 'Todas':\n",
        "    df = df[df['categoría'] == categoria]\n",
        "\n",
        "# KPIs\n",
        "total_recaudado = df['recaudado_usd'].sum()\n",
        "total_meta = df['meta_usd'].sum()\n",
        "porcentaje_exito = (df['estado'] == 'Meta alcanzada').mean() * 100\n",
        "ticket_promedio = df['recaudado_usd'].mean()\n",
        "\n",
        "st.title(\"📊 Dashboard de Campañas - GoFundMe (simulado)\")\n",
        "\n",
        "col1, col2, col3, col4 = st.columns(4)\n",
        "col1.metric(\"Recaudación total\", f\"${total_recaudado:,.0f}\")\n",
        "col2.metric(\"Meta total\", f\"${total_meta:,.0f}\")\n",
        "col3.metric(\"Éxito (%)\", f\"{porcentaje_exito:.1f}%\")\n",
        "col4.metric(\"Recaudación promedio\", f\"${ticket_promedio:,.0f}\")\n",
        "\n",
        "# Gráfico: Recaudación por categoría\n",
        "st.subheader(\"📁 Recaudación por categoría\")\n",
        "cat_chart = df.groupby('categoría')['recaudado_usd'].sum().reset_index()\n",
        "st.plotly_chart(px.bar(cat_chart, x='categoría', y='recaudado_usd', title='Recaudación total por categoría'))\n",
        "\n",
        "# Gráfico: Mapa por país\n",
        "st.subheader(\"🌍 Distribución geográfica\")\n",
        "geo = df.groupby('país')['recaudado_usd'].sum().reset_index()\n",
        "geo['iso'] = geo['país'].map({\n",
        "    'Argentina': 'ARG',\n",
        "    'USA': 'USA',\n",
        "    'Brasil': 'BRA',\n",
        "    'México': 'MEX',\n",
        "    'España': 'ESP'\n",
        "})\n",
        "st.plotly_chart(px.choropleth(geo, locations='iso', color='recaudado_usd',\n",
        "                              hover_name='país', title='Recaudación total por país',\n",
        "                              color_continuous_scale='blues'))\n",
        "\n",
        "# Tabla de campañas destacadas\n",
        "st.subheader(\"⭐ Campañas con mayor recaudación\")\n",
        "top_campañas = df.sort_values('recaudado_usd', ascending=False).head(10)\n",
        "st.dataframe(top_campañas[['nombre', 'categoría', 'país', 'meta_usd', 'recaudado_usd', 'estado']])\n",
        "\n",
        "# Alertas\n",
        "st.subheader(\"🚨 Campañas cerca de la meta\")\n",
        "casi_meta = df[(df['recaudado_usd'] / df['meta_usd']) >= 0.9 & (df['estado'] != 'Meta alcanzada')]\n",
        "st.dataframe(casi_meta[['nombre', 'país', 'categoría', 'recaudado_usd', 'meta_usd']])\n"
      ]
    }
  ]
}